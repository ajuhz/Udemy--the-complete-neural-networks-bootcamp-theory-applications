{
 "cells": [
  {
   "cell_type": "code",
   "execution_count": 1,
   "metadata": {},
   "outputs": [],
   "source": [
    "# Creating a classifier with CIFAR-10 dataset\n",
    "# We will be using residual network architecture small version to see how it would perform \n",
    "# we will use below architecture for this problem as suggested in course"
   ]
  },
  {
   "cell_type": "code",
   "execution_count": 10,
   "metadata": {},
   "outputs": [
    {
     "data": {
      "text/html": [
       "\n",
       "        <iframe\n",
       "            width=\"1000\"\n",
       "            height=\"600\"\n",
       "            src=\"https://www.cs.toronto.edu/~kriz/cifar.html\"\n",
       "            frameborder=\"0\"\n",
       "            allowfullscreen\n",
       "        ></iframe>\n",
       "        "
      ],
      "text/plain": [
       "<IPython.lib.display.IFrame at 0x1d4a8fc9a88>"
      ]
     },
     "execution_count": 10,
     "metadata": {},
     "output_type": "execute_result"
    }
   ],
   "source": [
    "from IPython.display import IFrame\n",
    "IFrame(src='https://www.cs.toronto.edu/~kriz/cifar.html', width=1000, height=600)\n"
   ]
  },
  {
   "cell_type": "markdown",
   "metadata": {},
   "source": [
    "![resnetimage](https://user-images.githubusercontent.com/30661597/78585170-f4ac7c80-786b-11ea-8b00-8b751c65f5ca.PNG)"
   ]
  },
  {
   "cell_type": "code",
   "execution_count": 1,
   "metadata": {},
   "outputs": [],
   "source": [
    "import torch\n",
    "import torchvision\n",
    "import torchvision.transforms as transforms\n",
    "import torch.nn as nn"
   ]
  },
  {
   "cell_type": "code",
   "execution_count": 2,
   "metadata": {},
   "outputs": [
    {
     "name": "stdout",
     "output_type": "stream",
     "text": [
      "Files already downloaded and verified\n"
     ]
    }
   ],
   "source": [
    "#create the dataset based on CIFAR-10 dataset\n",
    "train_dataset = torchvision.datasets.CIFAR10(root = './', \n",
    "                             train=True, \n",
    "                             transform=transforms.ToTensor(),\n",
    "                             download= False)\n",
    "test_dataset = torchvision.datasets.CIFAR10(root = './', \n",
    "                             train=True, \n",
    "                             transform=transforms.ToTensor(),\n",
    "                             download= True)"
   ]
  },
  {
   "cell_type": "code",
   "execution_count": 3,
   "metadata": {},
   "outputs": [
    {
     "name": "stdout",
     "output_type": "stream",
     "text": [
      "Train dataset size : (50000, 32, 32, 3)\n",
      "Test dataset size : (50000, 32, 32, 3)\n",
      "# of classes : 10\n",
      "classes are: ['airplane', 'automobile', 'bird', 'cat', 'deer', 'dog', 'frog', 'horse', 'ship', 'truck']\n"
     ]
    }
   ],
   "source": [
    "#check the dataset attributes\n",
    "print('Train dataset size : {}'.format(train_dataset.data.shape))\n",
    "print('Test dataset size : {}'.format(train_dataset.data.shape))\n",
    "print('# of classes : {}'.format(len(train_dataset.classes)))\n",
    "print('classes are: {}'.format(train_dataset.classes))"
   ]
  },
  {
   "cell_type": "code",
   "execution_count": 4,
   "metadata": {},
   "outputs": [],
   "source": [
    "# Data loader\n",
    "train_loader = torch.utils.data.DataLoader(dataset=train_dataset,\n",
    "                                           batch_size=10000,\n",
    "                                           shuffle=True)\n",
    "\n",
    "test_loader = torch.utils.data.DataLoader(dataset=test_dataset,\n",
    "                                          batch_size=10000,\n",
    "                                          shuffle=False)"
   ]
  },
  {
   "cell_type": "code",
   "execution_count": 20,
   "metadata": {},
   "outputs": [],
   "source": [
    "#creating residual block\n",
    "class Residual_block(nn.Module):\n",
    "    def __init__(self, in_channels, out_channels, stride=1, downsample=None):\n",
    "        super(Residual_block, self).__init__()\n",
    "        self.conv1 = self.conv3x3(in_channels,out_channels,stride)\n",
    "        self.batchnorm = nn.BatchNorm2d(out_channels)\n",
    "        self.relu = nn.ReLU()\n",
    "        self.conv2 = self.conv3x3(out_channels, out_channels)\n",
    "        self.downsample = downsample\n",
    "        self.downsampling = self.conv3x3(out_channels,out_channels,stride=2)\n",
    "        \n",
    "    def conv3x3(self,in_channels,out_channels,stride=1):\n",
    "        return nn.Conv2d(in_channels=in_channels,out_channels=out_channels,kernel_size=3,stride=stride,padding=1)\n",
    "    def forward(self, X):\n",
    "        output = self.conv1(X)\n",
    "        output = self.batchnorm(output)\n",
    "        output = self.relu(output)\n",
    "        output = self.conv1(output)\n",
    "        output = self.batchnorm(output)\n",
    "        if X.shape!= output.shape:\n",
    "             residual = self.downsampling(X)\n",
    "        output = output + residual\n",
    "        output = self.relu(output)\n",
    "        return output"
   ]
  },
  {
   "cell_type": "code",
   "execution_count": 21,
   "metadata": {},
   "outputs": [],
   "source": [
    "#creating ResNet architecture with Residual blocks\n",
    "# input to the contrctor should be Residual_block class and number of blocks in each layer\n",
    "class ResNet(nn.Module):\n",
    "    def __init__(self, Residual_block,in_channels= 3,no_classes=10):\n",
    "        super(ResNet, self).__init__()\n",
    "        self.layer1 = nn.Conv2d(in_channels=in_channels,out_channels=16,kernel_size=3,stride=1,padding=1)\n",
    "        self.bn1 = nn.BatchNorm2d(16)\n",
    "        self.relu = nn.ReLU()\n",
    "        self.block1 = Residual_block(in_channels=16, out_channels=16)\n",
    "        self.block2 = Residual_block(in_channels=16, out_channels=16)\n",
    "        self.block3 = Residual_block(in_channels=16, out_channels=32,stride =2)\n",
    "        self.block4 = Residual_block(in_channels=32, out_channels=32)\n",
    "        self.block5 = Residual_block(in_channels=32, out_channels=64,stride =2)\n",
    "        self.block6 = Residual_block(in_channels=64, out_channels=64)\n",
    "        self.avg_pool = nn.AvgPool2d(8)\n",
    "        self.fc = nn.Linear(64,no_classes)\n",
    "    def forward(self,X):\n",
    "        output = self.layer1(X)\n",
    "        output = self.bn1(output)\n",
    "        output = self.relu(output)\n",
    "        output = self.block1(output)\n",
    "        output = self.block2(output)\n",
    "        output = self.block3(output)\n",
    "        output = self.block4(output)\n",
    "        output = self.block5(output)\n",
    "        output = self.block6(output)\n",
    "        output = self.avg_pool(output)\n",
    "        output = self.fc(output)\n",
    "        return output"
   ]
  },
  {
   "cell_type": "code",
   "execution_count": 22,
   "metadata": {},
   "outputs": [],
   "source": [
    "model = ResNet(Residual_block)"
   ]
  },
  {
   "cell_type": "code",
   "execution_count": null,
   "metadata": {},
   "outputs": [],
   "source": [
    "for i, (images, labels) in enumerate(train_loader):\n",
    "    outputs = model(images)\n",
    "    print(outputs)\n",
    "    if i == 1:\n",
    "        break\n",
    "    "
   ]
  },
  {
   "cell_type": "code",
   "execution_count": null,
   "metadata": {},
   "outputs": [],
   "source": []
  },
  {
   "cell_type": "code",
   "execution_count": null,
   "metadata": {},
   "outputs": [],
   "source": []
  }
 ],
 "metadata": {
  "kernelspec": {
   "display_name": "Python 3",
   "language": "python",
   "name": "python3"
  },
  "language_info": {
   "codemirror_mode": {
    "name": "ipython",
    "version": 3
   },
   "file_extension": ".py",
   "mimetype": "text/x-python",
   "name": "python",
   "nbconvert_exporter": "python",
   "pygments_lexer": "ipython3",
   "version": "3.7.6"
  }
 },
 "nbformat": 4,
 "nbformat_minor": 2
}

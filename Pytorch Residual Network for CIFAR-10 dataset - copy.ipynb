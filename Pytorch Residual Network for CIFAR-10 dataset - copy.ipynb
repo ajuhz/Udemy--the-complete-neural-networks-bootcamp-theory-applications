{
  "nbformat": 4,
  "nbformat_minor": 0,
  "metadata": {
    "kernelspec": {
      "display_name": "Python 3",
      "language": "python",
      "name": "python3"
    },
    "language_info": {
      "codemirror_mode": {
        "name": "ipython",
        "version": 3
      },
      "file_extension": ".py",
      "mimetype": "text/x-python",
      "name": "python",
      "nbconvert_exporter": "python",
      "pygments_lexer": "ipython3",
      "version": "3.7.6"
    },
    "colab": {
      "name": "Pytorch Residual Network for CIFAR-10 dataset.ipynb",
      "provenance": []
    },
    "accelerator": "GPU",
    "widgets": {
      "application/vnd.jupyter.widget-state+json": {
        "0dc31b1d12144b8e896a4426f9c2cb99": {
          "model_module": "@jupyter-widgets/controls",
          "model_name": "HBoxModel",
          "state": {
            "_view_name": "HBoxView",
            "_dom_classes": [],
            "_model_name": "HBoxModel",
            "_view_module": "@jupyter-widgets/controls",
            "_model_module_version": "1.5.0",
            "_view_count": null,
            "_view_module_version": "1.5.0",
            "box_style": "",
            "layout": "IPY_MODEL_e0c7035c0120403bb6e169df70ae9de3",
            "_model_module": "@jupyter-widgets/controls",
            "children": [
              "IPY_MODEL_36b7b8b094f54366b87fadfcbcd74edd",
              "IPY_MODEL_96479bf82ee34ba89a149be80fe084ab"
            ]
          }
        },
        "e0c7035c0120403bb6e169df70ae9de3": {
          "model_module": "@jupyter-widgets/base",
          "model_name": "LayoutModel",
          "state": {
            "_view_name": "LayoutView",
            "grid_template_rows": null,
            "right": null,
            "justify_content": null,
            "_view_module": "@jupyter-widgets/base",
            "overflow": null,
            "_model_module_version": "1.2.0",
            "_view_count": null,
            "flex_flow": null,
            "width": null,
            "min_width": null,
            "border": null,
            "align_items": null,
            "bottom": null,
            "_model_module": "@jupyter-widgets/base",
            "top": null,
            "grid_column": null,
            "overflow_y": null,
            "overflow_x": null,
            "grid_auto_flow": null,
            "grid_area": null,
            "grid_template_columns": null,
            "flex": null,
            "_model_name": "LayoutModel",
            "justify_items": null,
            "grid_row": null,
            "max_height": null,
            "align_content": null,
            "visibility": null,
            "align_self": null,
            "height": null,
            "min_height": null,
            "padding": null,
            "grid_auto_rows": null,
            "grid_gap": null,
            "max_width": null,
            "order": null,
            "_view_module_version": "1.2.0",
            "grid_template_areas": null,
            "object_position": null,
            "object_fit": null,
            "grid_auto_columns": null,
            "margin": null,
            "display": null,
            "left": null
          }
        },
        "36b7b8b094f54366b87fadfcbcd74edd": {
          "model_module": "@jupyter-widgets/controls",
          "model_name": "FloatProgressModel",
          "state": {
            "_view_name": "ProgressView",
            "style": "IPY_MODEL_52855f02b8c54a52b8988238b4ae52ba",
            "_dom_classes": [],
            "description": "",
            "_model_name": "FloatProgressModel",
            "bar_style": "success",
            "max": 170498071,
            "_view_module": "@jupyter-widgets/controls",
            "_model_module_version": "1.5.0",
            "value": 170498071,
            "_view_count": null,
            "_view_module_version": "1.5.0",
            "orientation": "horizontal",
            "min": 0,
            "description_tooltip": null,
            "_model_module": "@jupyter-widgets/controls",
            "layout": "IPY_MODEL_28f0938239c44defaa185ae678bff4be"
          }
        },
        "96479bf82ee34ba89a149be80fe084ab": {
          "model_module": "@jupyter-widgets/controls",
          "model_name": "HTMLModel",
          "state": {
            "_view_name": "HTMLView",
            "style": "IPY_MODEL_fc75bea183284e57a3bd6510b539b494",
            "_dom_classes": [],
            "description": "",
            "_model_name": "HTMLModel",
            "placeholder": "​",
            "_view_module": "@jupyter-widgets/controls",
            "_model_module_version": "1.5.0",
            "value": " 170499072/? [02:23&lt;00:00, 1187827.33it/s]",
            "_view_count": null,
            "_view_module_version": "1.5.0",
            "description_tooltip": null,
            "_model_module": "@jupyter-widgets/controls",
            "layout": "IPY_MODEL_d123cedfec2d47d496cb1446e4344a70"
          }
        },
        "52855f02b8c54a52b8988238b4ae52ba": {
          "model_module": "@jupyter-widgets/controls",
          "model_name": "ProgressStyleModel",
          "state": {
            "_view_name": "StyleView",
            "_model_name": "ProgressStyleModel",
            "description_width": "initial",
            "_view_module": "@jupyter-widgets/base",
            "_model_module_version": "1.5.0",
            "_view_count": null,
            "_view_module_version": "1.2.0",
            "bar_color": null,
            "_model_module": "@jupyter-widgets/controls"
          }
        },
        "28f0938239c44defaa185ae678bff4be": {
          "model_module": "@jupyter-widgets/base",
          "model_name": "LayoutModel",
          "state": {
            "_view_name": "LayoutView",
            "grid_template_rows": null,
            "right": null,
            "justify_content": null,
            "_view_module": "@jupyter-widgets/base",
            "overflow": null,
            "_model_module_version": "1.2.0",
            "_view_count": null,
            "flex_flow": null,
            "width": null,
            "min_width": null,
            "border": null,
            "align_items": null,
            "bottom": null,
            "_model_module": "@jupyter-widgets/base",
            "top": null,
            "grid_column": null,
            "overflow_y": null,
            "overflow_x": null,
            "grid_auto_flow": null,
            "grid_area": null,
            "grid_template_columns": null,
            "flex": null,
            "_model_name": "LayoutModel",
            "justify_items": null,
            "grid_row": null,
            "max_height": null,
            "align_content": null,
            "visibility": null,
            "align_self": null,
            "height": null,
            "min_height": null,
            "padding": null,
            "grid_auto_rows": null,
            "grid_gap": null,
            "max_width": null,
            "order": null,
            "_view_module_version": "1.2.0",
            "grid_template_areas": null,
            "object_position": null,
            "object_fit": null,
            "grid_auto_columns": null,
            "margin": null,
            "display": null,
            "left": null
          }
        },
        "fc75bea183284e57a3bd6510b539b494": {
          "model_module": "@jupyter-widgets/controls",
          "model_name": "DescriptionStyleModel",
          "state": {
            "_view_name": "StyleView",
            "_model_name": "DescriptionStyleModel",
            "description_width": "",
            "_view_module": "@jupyter-widgets/base",
            "_model_module_version": "1.5.0",
            "_view_count": null,
            "_view_module_version": "1.2.0",
            "_model_module": "@jupyter-widgets/controls"
          }
        },
        "d123cedfec2d47d496cb1446e4344a70": {
          "model_module": "@jupyter-widgets/base",
          "model_name": "LayoutModel",
          "state": {
            "_view_name": "LayoutView",
            "grid_template_rows": null,
            "right": null,
            "justify_content": null,
            "_view_module": "@jupyter-widgets/base",
            "overflow": null,
            "_model_module_version": "1.2.0",
            "_view_count": null,
            "flex_flow": null,
            "width": null,
            "min_width": null,
            "border": null,
            "align_items": null,
            "bottom": null,
            "_model_module": "@jupyter-widgets/base",
            "top": null,
            "grid_column": null,
            "overflow_y": null,
            "overflow_x": null,
            "grid_auto_flow": null,
            "grid_area": null,
            "grid_template_columns": null,
            "flex": null,
            "_model_name": "LayoutModel",
            "justify_items": null,
            "grid_row": null,
            "max_height": null,
            "align_content": null,
            "visibility": null,
            "align_self": null,
            "height": null,
            "min_height": null,
            "padding": null,
            "grid_auto_rows": null,
            "grid_gap": null,
            "max_width": null,
            "order": null,
            "_view_module_version": "1.2.0",
            "grid_template_areas": null,
            "object_position": null,
            "object_fit": null,
            "grid_auto_columns": null,
            "margin": null,
            "display": null,
            "left": null
          }
        }
      }
    }
  },
  "cells": [
    {
      "cell_type": "code",
      "metadata": {
        "id": "-DhUq16ishUT"
      },
      "source": [
        "# Creating a classifier with CIFAR-10 dataset\n",
        "# We will be using residual network architecture small version to see how it would perform \n",
        "# we will use below architecture for this problem as suggested in course"
      ],
      "execution_count": null,
      "outputs": []
    },
    {
      "cell_type": "code",
      "metadata": {
        "id": "iIzO8bEnshUz",
        "outputId": "92551a28-28a3-4af4-a4aa-c32b8832d789"
      },
      "source": [
        "from IPython.display import IFrame\n",
        "IFrame(src='https://www.cs.toronto.edu/~kriz/cifar.html', width=1000, height=600)\n"
      ],
      "execution_count": null,
      "outputs": [
        {
          "output_type": "execute_result",
          "data": {
            "text/html": [
              "\n",
              "        <iframe\n",
              "            width=\"1000\"\n",
              "            height=\"600\"\n",
              "            src=\"https://www.cs.toronto.edu/~kriz/cifar.html\"\n",
              "            frameborder=\"0\"\n",
              "            allowfullscreen\n",
              "        ></iframe>\n",
              "        "
            ],
            "text/plain": [
              "<IPython.lib.display.IFrame at 0x1d4a8fc9a88>"
            ]
          },
          "metadata": {
            "tags": []
          },
          "execution_count": 10
        }
      ]
    },
    {
      "cell_type": "markdown",
      "metadata": {
        "id": "p2WfG1vashU5"
      },
      "source": [
        "![resnetimage](https://user-images.githubusercontent.com/30661597/78585170-f4ac7c80-786b-11ea-8b00-8b751c65f5ca.PNG)"
      ]
    },
    {
      "cell_type": "code",
      "metadata": {
        "id": "8EORFfE7shU7"
      },
      "source": [
        "import torch\n",
        "import torchvision\n",
        "import torchvision.transforms as transforms\n",
        "import torch.nn as nn\n",
        "device = torch.device('cuda' if torch.cuda.is_available() else 'cpu')"
      ],
      "execution_count": 11,
      "outputs": []
    },
    {
      "cell_type": "code",
      "metadata": {
        "id": "amYG4k8VshU-",
        "outputId": "ae296f1c-b00f-40a6-8cb2-c40e1954aeb5",
        "colab": {
          "base_uri": "https://localhost:8080/",
          "height": 117,
          "referenced_widgets": [
            "0dc31b1d12144b8e896a4426f9c2cb99",
            "e0c7035c0120403bb6e169df70ae9de3",
            "36b7b8b094f54366b87fadfcbcd74edd",
            "96479bf82ee34ba89a149be80fe084ab",
            "52855f02b8c54a52b8988238b4ae52ba",
            "28f0938239c44defaa185ae678bff4be",
            "fc75bea183284e57a3bd6510b539b494",
            "d123cedfec2d47d496cb1446e4344a70"
          ]
        }
      },
      "source": [
        "#create the dataset based on CIFAR-10 dataset\n",
        "train_dataset = torchvision.datasets.CIFAR10(root = './', \n",
        "                             train=True, \n",
        "                             transform=transforms.ToTensor(),\n",
        "                             download= True)\n",
        "test_dataset = torchvision.datasets.CIFAR10(root = './', \n",
        "                             train=True, \n",
        "                             transform=transforms.ToTensor(),\n",
        "                             download= True)"
      ],
      "execution_count": 4,
      "outputs": [
        {
          "output_type": "stream",
          "text": [
            "Downloading https://www.cs.toronto.edu/~kriz/cifar-10-python.tar.gz to ./cifar-10-python.tar.gz\n"
          ],
          "name": "stdout"
        },
        {
          "output_type": "display_data",
          "data": {
            "application/vnd.jupyter.widget-view+json": {
              "model_id": "0dc31b1d12144b8e896a4426f9c2cb99",
              "version_minor": 0,
              "version_major": 2
            },
            "text/plain": [
              "HBox(children=(FloatProgress(value=0.0, max=170498071.0), HTML(value='')))"
            ]
          },
          "metadata": {
            "tags": []
          }
        },
        {
          "output_type": "stream",
          "text": [
            "\n",
            "Extracting ./cifar-10-python.tar.gz to ./\n",
            "Files already downloaded and verified\n"
          ],
          "name": "stdout"
        }
      ]
    },
    {
      "cell_type": "code",
      "metadata": {
        "id": "YaeeCtp8shVC",
        "outputId": "9dcda1a1-36a0-4de7-c34e-2e1bf797eabe",
        "colab": {
          "base_uri": "https://localhost:8080/"
        }
      },
      "source": [
        "#check the dataset attributes\n",
        "print('Train dataset size : {}'.format(train_dataset.data.shape))\n",
        "print('Test dataset size : {}'.format(train_dataset.data.shape))\n",
        "print('# of classes : {}'.format(len(train_dataset.classes)))\n",
        "print('classes are: {}'.format(train_dataset.classes))"
      ],
      "execution_count": 5,
      "outputs": [
        {
          "output_type": "stream",
          "text": [
            "Train dataset size : (50000, 32, 32, 3)\n",
            "Test dataset size : (50000, 32, 32, 3)\n",
            "# of classes : 10\n",
            "classes are: ['airplane', 'automobile', 'bird', 'cat', 'deer', 'dog', 'frog', 'horse', 'ship', 'truck']\n"
          ],
          "name": "stdout"
        }
      ]
    },
    {
      "cell_type": "code",
      "metadata": {
        "id": "vKU5IXWkshVF"
      },
      "source": [
        "# Data loader\n",
        "train_loader = torch.utils.data.DataLoader(dataset=train_dataset,\n",
        "                                           batch_size=10000,\n",
        "                                           shuffle=True)\n",
        "\n",
        "test_loader = torch.utils.data.DataLoader(dataset=test_dataset,\n",
        "                                          batch_size=10000,\n",
        "                                          shuffle=False)"
      ],
      "execution_count": 6,
      "outputs": []
    },
    {
      "cell_type": "code",
      "metadata": {
        "id": "6R3j7ErSshVH"
      },
      "source": [
        "#creating residual block\n",
        "class Residual_block(nn.Module):\n",
        "    def __init__(self, in_channels, out_channels, stride=1, downsample=None):\n",
        "        super(Residual_block, self).__init__()\n",
        "        self.conv1 = self.conv3x3(in_channels,out_channels,stride)\n",
        "        self.batchnorm = nn.BatchNorm2d(out_channels)\n",
        "        self.relu = nn.ReLU()\n",
        "        self.conv2 = self.conv3x3(out_channels, out_channels)\n",
        "        self.downsample = downsample\n",
        "        self.downsampling = self.conv3x3(out_channels,out_channels,stride=2)\n",
        "        \n",
        "    def conv3x3(self,in_channels,out_channels,stride=1):\n",
        "        return nn.Conv2d(in_channels=in_channels,out_channels=out_channels,kernel_size=3,stride=stride,padding=1)\n",
        "    def forward(self, X):\n",
        "        residual = X.clone()\n",
        "        output = self.conv1(X)\n",
        "        output = self.batchnorm(output)\n",
        "        output = self.relu(output)\n",
        "        output = self.conv1(output)\n",
        "        output = self.batchnorm(output)\n",
        "        if X.shape!= output.shape:\n",
        "             residual = self.downsampling(X)\n",
        "        output = output + residual\n",
        "        output = self.relu(output)\n",
        "        return output"
      ],
      "execution_count": 8,
      "outputs": []
    },
    {
      "cell_type": "code",
      "metadata": {
        "id": "_-kPOQOrshVK"
      },
      "source": [
        "#creating ResNet architecture with Residual blocks\n",
        "# input to the contrctor should be Residual_block class and number of blocks in each layer\n",
        "class ResNet(nn.Module):\n",
        "    def __init__(self, Residual_block,in_channels= 3,no_classes=10):\n",
        "        super(ResNet, self).__init__()\n",
        "        self.layer1 = nn.Conv2d(in_channels=in_channels,out_channels=16,kernel_size=3,stride=1,padding=1)\n",
        "        self.bn1 = nn.BatchNorm2d(16)\n",
        "        self.relu = nn.ReLU()\n",
        "        self.block1 = Residual_block(in_channels=16, out_channels=16)\n",
        "        self.block2 = Residual_block(in_channels=16, out_channels=16)\n",
        "        self.block3 = Residual_block(in_channels=16, out_channels=32,stride =2)\n",
        "        self.block4 = Residual_block(in_channels=32, out_channels=32)\n",
        "        self.block5 = Residual_block(in_channels=32, out_channels=64,stride =2)\n",
        "        self.block6 = Residual_block(in_channels=64, out_channels=64)\n",
        "        self.avg_pool = nn.AvgPool2d(8)\n",
        "        self.fc = nn.Linear(64,no_classes)\n",
        "    def forward(self,X):\n",
        "        output = self.layer1(X)\n",
        "        output = self.bn1(output)\n",
        "        output = self.relu(output)\n",
        "        output = self.block1(output)\n",
        "        output = self.block2(output)\n",
        "        output = self.block3(output)\n",
        "        output = self.block4(output)\n",
        "        output = self.block5(output)\n",
        "        output = self.block6(output)\n",
        "        output = self.avg_pool(output)\n",
        "        output = self.fc(output)\n",
        "        return output"
      ],
      "execution_count": 9,
      "outputs": []
    },
    {
      "cell_type": "code",
      "metadata": {
        "id": "U7c__LKkshVN"
      },
      "source": [
        "model = ResNet(Residual_block).to(device)"
      ],
      "execution_count": 13,
      "outputs": []
    },
    {
      "cell_type": "code",
      "metadata": {
        "id": "q608zV27shVO",
        "outputId": "183c416a-ece3-414d-80f0-c2236a0d4db8",
        "colab": {
          "base_uri": "https://localhost:8080/"
        }
      },
      "source": [
        "for i, (images, labels) in enumerate(train_loader):\n",
        "    images = images.to(device)\n",
        "    print(images.shape)\n",
        "    if i>0:\n",
        "      break\n",
        "    "
      ],
      "execution_count": 16,
      "outputs": [
        {
          "output_type": "stream",
          "text": [
            "torch.Size([10000, 3, 32, 32])\n",
            "torch.Size([10000, 3, 32, 32])\n"
          ],
          "name": "stdout"
        }
      ]
    },
    {
      "cell_type": "code",
      "metadata": {
        "id": "qKkQvfufshVP"
      },
      "source": [
        "X = torch.rand((1,3,32,32)).to(device)"
      ],
      "execution_count": 20,
      "outputs": []
    },
    {
      "cell_type": "code",
      "metadata": {
        "id": "iWXwowkEshVR"
      },
      "source": [
        "block3 = Residual_block(16,32,2).to(device)"
      ],
      "execution_count": 34,
      "outputs": []
    },
    {
      "cell_type": "code",
      "metadata": {
        "id": "XEsTj1msxwrw",
        "outputId": "fa4bc5ad-5c5b-4429-8eb0-25b4f86fa389",
        "colab": {
          "base_uri": "https://localhost:8080/"
        }
      },
      "source": [
        "block3.conv1"
      ],
      "execution_count": 37,
      "outputs": [
        {
          "output_type": "execute_result",
          "data": {
            "text/plain": [
              "Conv2d(16, 32, kernel_size=(3, 3), stride=(2, 2), padding=(1, 1))"
            ]
          },
          "metadata": {
            "tags": []
          },
          "execution_count": 37
        }
      ]
    },
    {
      "cell_type": "code",
      "metadata": {
        "id": "IZ-FpyJgv1Qx",
        "outputId": "6b90b799-87cf-4299-e63a-3471bb8d4084",
        "colab": {
          "base_uri": "https://localhost:8080/"
        }
      },
      "source": [
        "output.shape"
      ],
      "execution_count": 30,
      "outputs": [
        {
          "output_type": "execute_result",
          "data": {
            "text/plain": [
              "torch.Size([1, 16, 32, 32])"
            ]
          },
          "metadata": {
            "tags": []
          },
          "execution_count": 30
        }
      ]
    },
    {
      "cell_type": "code",
      "metadata": {
        "id": "hFcXuI4jwPXb"
      },
      "source": [
        ""
      ],
      "execution_count": null,
      "outputs": []
    }
  ]
}